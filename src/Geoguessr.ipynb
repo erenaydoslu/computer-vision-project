{
 "cells": [
  {
   "cell_type": "code",
   "execution_count": null,
   "id": "53d600fc",
   "metadata": {},
   "outputs": [],
   "source": [
    "from PIL import Image\n",
    "\n",
    "import torch\n",
    "from transformers import BeitFeatureExtractor, BeitForImageClassification\n",
    "import pandas as pd\n",
    "from torch.utils.data import random_split, DataLoader\n",
    "import os\n",
    "from dataset import SingleImageDataset\n"
   ]
  },
  {
   "cell_type": "code",
   "execution_count": null,
   "id": "bc7ca435",
   "metadata": {},
   "outputs": [],
   "source": [
    "dataset = SingleImageDataset()\n",
    "train_set, val_set, test_set = random_split(dataset, [0.6, 0.2, 0.2])"
   ]
  },
  {
   "cell_type": "code",
   "execution_count": null,
   "id": "e0338667",
   "metadata": {},
   "outputs": [],
   "source": [
    "train_loader = DataLoader(train_set, batch_size=64, shuffle=True)\n",
    "val_loader = DataLoader(val_set, batch_size=64, shuffle=True)\n",
    "test_loader = DataLoader(test_set, batch_size=64, shuffle=False)"
   ]
  },
  {
   "cell_type": "code",
   "execution_count": null,
   "id": "59096a58",
   "metadata": {},
   "outputs": [],
   "source": [
    "for images, labels in train_loader:\n",
    "    print(images.size())\n",
    "    print(labels.size())"
   ]
  },
  {
   "cell_type": "code",
   "execution_count": null,
   "id": "a491c68f",
   "metadata": {},
   "outputs": [],
   "source": [
    "feature_extractor = BeitFeatureExtractor.from_pretrained('microsoft/beit-base-patch16-384')\n",
    "model = BeitForImageClassification.from_pretrained('microsoft/beit-base-patch16-384')"
   ]
  },
  {
   "cell_type": "code",
   "execution_count": null,
   "id": "ad187ea3",
   "metadata": {},
   "outputs": [],
   "source": [
    "image = Image.open('../data/images/0,37.008870562004056,-8.939049125230865/138.jpg')\n",
    "\n",
    "image"
   ]
  },
  {
   "cell_type": "code",
   "execution_count": null,
   "id": "eced5ea0",
   "metadata": {},
   "outputs": [],
   "source": [
    "model.classifier = torch.nn.Linear(768, 2)"
   ]
  },
  {
   "cell_type": "code",
   "execution_count": null,
   "id": "91b1296a",
   "metadata": {},
   "outputs": [],
   "source": [
    "model"
   ]
  }
 ],
 "metadata": {
  "kernelspec": {
   "display_name": "Torch-DL",
   "language": "python",
   "name": "python3"
  }
 },
 "nbformat": 4,
 "nbformat_minor": 5
}
