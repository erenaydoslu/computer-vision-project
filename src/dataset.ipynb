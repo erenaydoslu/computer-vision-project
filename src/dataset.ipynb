{
 "cells": [
  {
   "cell_type": "code",
   "execution_count": null,
   "id": "24c43853",
   "metadata": {
    "lines_to_next_cell": 1
   },
   "outputs": [],
   "source": [
    "import os\n",
    "import pandas as pd\n",
    "from torchvision.io import read_image\n",
    "import torch\n",
    "from torch.utils.data import Dataset, DataLoader"
   ]
  },
  {
   "cell_type": "code",
   "execution_count": null,
   "id": "0e17bbbb",
   "metadata": {
    "lines_to_next_cell": 1
   },
   "outputs": [],
   "source": [
    "#Single sample is a single image from a random location\n",
    "class SingleImageDataset(Dataset):\n",
    "    def __init__(self, annotations_file=\"../data/annotations_unglued.csv\", img_dir=\"../data/images\", transform=None, target_transform=None):\n",
    "        self.img_labels = pd.read_csv(annotations_file)\n",
    "        self.img_dir = img_dir\n",
    "        self.transform = transform\n",
    "        self.target_transform = target_transform\n",
    "\n",
    "    def __len__(self):\n",
    "        return len(self.img_labels)\n",
    "\n",
    "    def __getitem__(self, idx):\n",
    "        img_path = os.path.join(self.img_dir, self.img_labels.iloc[idx, 0])\n",
    "        image = read_image(img_path)\n",
    "        label = torch.Tensor([self.img_labels.iloc[idx, 2], self.img_labels.iloc[idx, 3]])\n",
    "        if self.transform:\n",
    "            image = self.transform(image)\n",
    "        if self.target_transform:\n",
    "            label = self.target_transform(label)\n",
    "        return image, label"
   ]
  },
  {
   "cell_type": "code",
   "execution_count": null,
   "id": "4b164f12",
   "metadata": {},
   "outputs": [],
   "source": [
    "#Single sample is all images from a given (random) location\n",
    "class FullLocationDataset(Dataset):\n",
    "    def __init__(self, annotations_file=\"../data/annotations_unglued.csv\", img_dir=\"../data/images\", transform=None, target_transform=None):\n",
    "        self.img_labels = pd.read_csv(annotations_file)\n",
    "        self.img_dir = img_dir\n",
    "        self.transform = transform\n",
    "        self.target_transform = target_transform\n",
    "\n",
    "    def __len__(self):\n",
    "        return int(len(self.img_labels) // 3)\n",
    "\n",
    "    def __getitem__(self, idx):\n",
    "        loc_idx = (idx // 3) * 3\n",
    "        \n",
    "        img_paths = [os.path.join(self.img_dir, self.img_labels.iloc[loc_idx + i, 0]) for i in range(3)]\n",
    "        images = torch.stack([read_image(img_path) for img_path in img_paths], dim=0)\n",
    "        labels = torch.Tensor([self.img_labels.iloc[loc_idx, 2], self.img_labels.iloc[loc_idx, 3]])\n",
    "        if self.transform:\n",
    "            images = self.transform(images)\n",
    "        if self.target_transform:\n",
    "            labels = self.target_transform(labels)\n",
    "        return images, labels"
   ]
  }
 ],
 "metadata": {
  "jupytext": {
   "cell_metadata_filter": "-all",
   "main_language": "python",
   "notebook_metadata_filter": "-all"
  }
 },
 "nbformat": 4,
 "nbformat_minor": 5
}
