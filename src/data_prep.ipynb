{
 "cells": [
  {
   "cell_type": "code",
   "execution_count": 58,
   "metadata": {},
   "outputs": [],
   "source": [
    "\n",
    "import os\n",
    "import pandas as pd\n",
    "from torchvision.io import read_image\n",
    "import torch\n",
    "from torch.utils.data import Dataset, DataLoader"
   ]
  },
  {
   "cell_type": "code",
   "execution_count": 29,
   "metadata": {},
   "outputs": [],
   "source": [
    "\n",
    "data_dir = os.fsencode(\"/home/igosh/computer-vision-project/data/images\")\n",
    "\n",
    "annotations_list = []\n",
    "\n",
    "for location in os.listdir(data_dir):\n",
    "    if not os.path.isdir(data_dir+b'/'+location):\n",
    "        continue\n",
    "    location_dir_name: str = os.fsdecode(location)\n",
    "    square_id, lat, lon = location_dir_name.split(',')\n",
    "    for file in os.listdir(data_dir+b'/'+location):\n",
    "        angle = os.fsdecode(file)[:-4]\n",
    "        path = location_dir_name+\"/\"+os.fsdecode(file)\n",
    "        # print(path)\n",
    "        entry = [path, int(square_id), float(lat), float(lon), float(angle)]\n",
    "        annotations_list.append(entry)\n",
    "    \n",
    "annotations = pd.DataFrame(annotations_list, columns=[\"path\", \"square_id\", \"lat\", \"lon\", \"angle\"]).set_index(\"path\")\n",
    "annotations.head()\n",
    "annotations.to_csv(\"/home/igosh/computer-vision-project/data/annotations.csv\")"
   ]
  }
 ],
 "metadata": {
  "kernelspec": {
   "display_name": "venv",
   "language": "python",
   "name": "python3"
  },
  "language_info": {
   "codemirror_mode": {
    "name": "ipython",
    "version": 3
   },
   "file_extension": ".py",
   "mimetype": "text/x-python",
   "name": "python",
   "nbconvert_exporter": "python",
   "pygments_lexer": "ipython3",
   "version": "3.10.12"
  }
 },
 "nbformat": 4,
 "nbformat_minor": 2
}
