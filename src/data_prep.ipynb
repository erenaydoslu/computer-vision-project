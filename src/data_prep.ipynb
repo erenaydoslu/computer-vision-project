{
 "cells": [
  {
   "cell_type": "code",
   "execution_count": null,
   "id": "7e09a5e7",
   "metadata": {},
   "outputs": [],
   "source": [
    "\n",
    "import os\n",
    "from tqdm import tqdm\n",
    "import pandas as pd\n",
    "import torch\n",
    "from torchvision.io import read_image, write_jpeg\n",
    "from torch.utils.data import Dataset, DataLoader\n",
    "from dataset import SingleImageDataset, FullLocationDataset"
   ]
  },
  {
   "cell_type": "code",
   "execution_count": null,
   "id": "52c5fd3f",
   "metadata": {},
   "outputs": [],
   "source": [
    "def glue_images(dir_path, glued_path):\n",
    "    glued = torch.cat([read_image(os.fsdecode(os.path.join(dir_path, path))) for path in os.listdir(dir_path)], dim=2)\n",
    "    # print(glued.size())\n",
    "    # print(glued_path)\n",
    "    write_jpeg(glued, os.fsdecode(glued_path))"
   ]
  },
  {
   "cell_type": "code",
   "execution_count": null,
   "id": "ea97a398",
   "metadata": {
    "lines_to_next_cell": 0
   },
   "outputs": [],
   "source": [
    "data_dir = os.fsencode(\"/home/igosh/computer-vision-project/data/images\")\n",
    "\n",
    "annotations_list_unglued = []\n",
    "annotations_list_glued = []\n",
    "\n",
    "for location in tqdm(os.listdir(data_dir), total = 17600):\n",
    "    if not os.path.isdir(data_dir + b\"/\" + location):\n",
    "        continue\n",
    "    location_dir_name: str = os.fsdecode(location)\n",
    "    square_id, lat, lon = location_dir_name.split(\",\")\n",
    "    for file in os.listdir(data_dir + b\"/\" + location):\n",
    "        # print(os.fsdecode(file))\n",
    "        if os.fsdecode(file) == \"glued.jpg\":\n",
    "            continue\n",
    "        angle = os.fsdecode(file)[:-4]\n",
    "        path = location_dir_name + \"/\" + os.fsdecode(file)\n",
    "        entry = [path, int(square_id), float(lat), float(lon), float(angle)]\n",
    "        annotations_list_unglued.append(entry)\n",
    "    glued_path = data_dir + b\"/\" + location + b\"/glued.jpg\"\n",
    "    glue_images(data_dir + b\"/\" + location, glued_path)\n",
    "    entry_glued = [location_dir_name + \"/glued.jpg\" , int(square_id), float(lat), float(lon)]\n",
    "    annotations_list_glued.append(entry_glued)\n",
    "\n",
    "annotations_unglued = pd.DataFrame(\n",
    "    annotations_list_unglued, columns=[\"path\", \"square_id\", \"lat\", \"lon\", \"angle\"]\n",
    ").set_index(\"path\")\n",
    "annotations_unglued.to_csv(\n",
    "    \"/home/igosh/computer-vision-project/data/annotations_unglued.csv\"\n",
    ")\n",
    "annotations_glued = pd.DataFrame(\n",
    "    annotations_list_glued, columns=[\"path\", \"square_id\", \"lat\", \"lon\"]\n",
    ").set_index(\"path\")\n",
    "annotations_glued.to_csv(\n",
    "    \"/home/igosh/computer-vision-project/data/annotations_glued.csv\"\n",
    ")"
   ]
  }
 ],
 "metadata": {
  "kernelspec": {
   "display_name": "venv",
   "language": "python",
   "name": "python3"
  }
 },
 "nbformat": 4,
 "nbformat_minor": 5
}
