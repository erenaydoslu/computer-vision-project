{
 "cells": [
  {
   "cell_type": "code",
   "execution_count": 5,
   "id": "7e09a5e7",
   "metadata": {},
   "outputs": [],
   "source": [
    "import os\n",
    "from tqdm.notebook import tqdm\n",
    "import pandas as pd\n",
    "import torch\n",
    "from torchvision.io import read_image, write_jpeg\n",
    "# from torch.utils.data import Dataset, DataLoader\n",
    "# from dataset import SingleImageDataset, FullLocationDataset"
   ]
  },
  {
   "cell_type": "code",
   "execution_count": 3,
   "id": "52c5fd3f",
   "metadata": {},
   "outputs": [],
   "source": [
    "def glue_images(dir_path, glued_path):\n",
    "    glued = torch.cat([read_image(os.fsdecode(os.path.join(dir_path, path))) for path in os.listdir(dir_path)], dim=2)\n",
    "    # print(glued.size())\n",
    "    # print(glued_path)\n",
    "    write_jpeg(glued, os.fsdecode(glued_path))"
   ]
  },
  {
   "cell_type": "code",
   "execution_count": 6,
   "id": "ea97a398",
   "metadata": {
    "lines_to_next_cell": 0
   },
   "outputs": [
    {
     "data": {
      "application/vnd.jupyter.widget-view+json": {
       "model_id": "d0596af92cdf4414a2836a934b67b8f4",
       "version_major": 2,
       "version_minor": 0
      },
      "text/plain": [
       "  0%|          | 0/17600 [00:00<?, ?it/s]"
      ]
     },
     "metadata": {},
     "output_type": "display_data"
    }
   ],
   "source": [
    "data_dir = os.fsencode(\"../data/images\")\n",
    "\n",
    "annotations_list_unglued = []\n",
    "annotations_list_glued = []\n",
    "\n",
    "for location in tqdm(os.listdir(data_dir), total = 17600):\n",
    "    if not os.path.isdir(data_dir + b\"/\" + location):\n",
    "        continue\n",
    "    location_dir_name: str = os.fsdecode(location)\n",
    "    square_id, lat, lon = location_dir_name.split(\",\")\n",
    "    for file in os.listdir(data_dir + b\"/\" + location):\n",
    "        # print(os.fsdecode(file))\n",
    "        if os.fsdecode(file) == \"glued.jpg\":\n",
    "            continue\n",
    "        angle = os.fsdecode(file)[:-4]\n",
    "        path = location_dir_name + \"/\" + os.fsdecode(file)\n",
    "        entry = [path, int(square_id), float(lat), float(lon), float(angle)]\n",
    "        annotations_list_unglued.append(entry)\n",
    "    glued_path = data_dir + b\"/\" + location + b\"/glued.jpg\"\n",
    "    glue_images(data_dir + b\"/\" + location, glued_path)\n",
    "    entry_glued = [location_dir_name + \"/glued.jpg\" , int(square_id), float(lat), float(lon)]\n",
    "    annotations_list_glued.append(entry_glued)\n",
    "\n",
    "annotations_unglued = pd.DataFrame(\n",
    "    annotations_list_unglued, columns=[\"path\", \"square_id\", \"lat\", \"lon\", \"angle\"]\n",
    ").set_index(\"path\")\n",
    "annotations_unglued.to_csv(\n",
    "    \"../data/annotations_unglued.csv\"\n",
    ")\n",
    "annotations_glued = pd.DataFrame(\n",
    "    annotations_list_glued, columns=[\"path\", \"square_id\", \"lat\", \"lon\"]\n",
    ").set_index(\"path\")\n",
    "annotations_glued.to_csv(\n",
    "    \"../data/annotations_glued.csv\"\n",
    ")"
   ]
  },
  {
   "cell_type": "code",
   "execution_count": 18,
   "id": "a8c00bc8",
   "metadata": {},
   "outputs": [],
   "source": [
    "!conda install -c conda-forge pynvml "
   ]
  },
  {
   "cell_type": "code",
   "execution_count": 16,
   "id": "ff4e9fdb",
   "metadata": {},
   "outputs": [
    {
     "ename": "ModuleNotFoundError",
     "evalue": "pynvml does not seem to be installed or it can't be imported.",
     "output_type": "error",
     "traceback": [
      "\u001b[1;31m---------------------------------------------------------------------------\u001b[0m",
      "\u001b[1;31mModuleNotFoundError\u001b[0m                       Traceback (most recent call last)",
      "File \u001b[1;32mc:\\Users\\erena\\anaconda3\\envs\\Torch-DL\\Lib\\site-packages\\torch\\cuda\\__init__.py:54\u001b[0m\n\u001b[0;32m     53\u001b[0m \u001b[38;5;28;01mtry\u001b[39;00m:\n\u001b[1;32m---> 54\u001b[0m     \u001b[38;5;28;01mimport\u001b[39;00m \u001b[38;5;21;01mpynvml\u001b[39;00m  \u001b[38;5;66;03m# type: ignore[import]\u001b[39;00m\n\u001b[0;32m     56\u001b[0m     _HAS_PYNVML \u001b[38;5;241m=\u001b[39m \u001b[38;5;28;01mTrue\u001b[39;00m\n",
      "\u001b[1;31mModuleNotFoundError\u001b[0m: No module named 'pynvml'",
      "\nThe above exception was the direct cause of the following exception:\n",
      "\u001b[1;31mModuleNotFoundError\u001b[0m                       Traceback (most recent call last)",
      "Cell \u001b[1;32mIn[16], line 1\u001b[0m\n\u001b[1;32m----> 1\u001b[0m torch\u001b[38;5;241m.\u001b[39mcuda\u001b[38;5;241m.\u001b[39mutilization(\u001b[38;5;241m0\u001b[39m)\n",
      "File \u001b[1;32mc:\\Users\\erena\\anaconda3\\envs\\Torch-DL\\Lib\\site-packages\\torch\\cuda\\__init__.py:940\u001b[0m, in \u001b[0;36mutilization\u001b[1;34m(device)\u001b[0m\n\u001b[0;32m    928\u001b[0m \u001b[38;5;28;01mdef\u001b[39;00m \u001b[38;5;21mutilization\u001b[39m(device: Optional[Union[Device, \u001b[38;5;28mint\u001b[39m]] \u001b[38;5;241m=\u001b[39m \u001b[38;5;28;01mNone\u001b[39;00m) \u001b[38;5;241m-\u001b[39m\u001b[38;5;241m>\u001b[39m \u001b[38;5;28mint\u001b[39m:\n\u001b[0;32m    929\u001b[0m \u001b[38;5;250m    \u001b[39m\u001b[38;5;124mr\u001b[39m\u001b[38;5;124;03m\"\"\"Return the percent of time over the past sample period during which one or\u001b[39;00m\n\u001b[0;32m    930\u001b[0m \u001b[38;5;124;03m    more kernels was executing on the GPU as given by `nvidia-smi`.\u001b[39;00m\n\u001b[0;32m    931\u001b[0m \n\u001b[1;32m   (...)\u001b[0m\n\u001b[0;32m    938\u001b[0m \u001b[38;5;124;03m    depending on the product being queried.\u001b[39;00m\n\u001b[0;32m    939\u001b[0m \u001b[38;5;124;03m    \"\"\"\u001b[39;00m\n\u001b[1;32m--> 940\u001b[0m     handle \u001b[38;5;241m=\u001b[39m _get_pynvml_handler(device)\n\u001b[0;32m    941\u001b[0m     device \u001b[38;5;241m=\u001b[39m _get_nvml_device_index(device)\n\u001b[0;32m    942\u001b[0m     handle \u001b[38;5;241m=\u001b[39m pynvml\u001b[38;5;241m.\u001b[39mnvmlDeviceGetHandleByIndex(device)\n",
      "File \u001b[1;32mc:\\Users\\erena\\anaconda3\\envs\\Torch-DL\\Lib\\site-packages\\torch\\cuda\\__init__.py:894\u001b[0m, in \u001b[0;36m_get_pynvml_handler\u001b[1;34m(device)\u001b[0m\n\u001b[0;32m    892\u001b[0m \u001b[38;5;28;01mdef\u001b[39;00m \u001b[38;5;21m_get_pynvml_handler\u001b[39m(device: Optional[Union[Device, \u001b[38;5;28mint\u001b[39m]] \u001b[38;5;241m=\u001b[39m \u001b[38;5;28;01mNone\u001b[39;00m):\n\u001b[0;32m    893\u001b[0m     \u001b[38;5;28;01mif\u001b[39;00m \u001b[38;5;129;01mnot\u001b[39;00m _HAS_PYNVML:\n\u001b[1;32m--> 894\u001b[0m         \u001b[38;5;28;01mraise\u001b[39;00m \u001b[38;5;167;01mModuleNotFoundError\u001b[39;00m(\n\u001b[0;32m    895\u001b[0m             \u001b[38;5;124m\"\u001b[39m\u001b[38;5;124mpynvml does not seem to be installed or it can\u001b[39m\u001b[38;5;124m'\u001b[39m\u001b[38;5;124mt be imported.\u001b[39m\u001b[38;5;124m\"\u001b[39m\n\u001b[0;32m    896\u001b[0m         ) \u001b[38;5;28;01mfrom\u001b[39;00m \u001b[38;5;21;01m_PYNVML_ERR\u001b[39;00m\n\u001b[0;32m    897\u001b[0m     \u001b[38;5;28;01mfrom\u001b[39;00m \u001b[38;5;21;01mpynvml\u001b[39;00m \u001b[38;5;28;01mimport\u001b[39;00m NVMLError_DriverNotLoaded\n\u001b[0;32m    899\u001b[0m     \u001b[38;5;28;01mtry\u001b[39;00m:\n",
      "\u001b[1;31mModuleNotFoundError\u001b[0m: pynvml does not seem to be installed or it can't be imported."
     ]
    }
   ],
   "source": [
    "torch.cuda.utilization(0)"
   ]
  }
 ],
 "metadata": {
  "kernelspec": {
   "display_name": "venv",
   "language": "python",
   "name": "python3"
  },
  "language_info": {
   "codemirror_mode": {
    "name": "ipython",
    "version": 3
   },
   "file_extension": ".py",
   "mimetype": "text/x-python",
   "name": "python",
   "nbconvert_exporter": "python",
   "pygments_lexer": "ipython3",
   "version": "3.11.5"
  }
 },
 "nbformat": 4,
 "nbformat_minor": 5
}
